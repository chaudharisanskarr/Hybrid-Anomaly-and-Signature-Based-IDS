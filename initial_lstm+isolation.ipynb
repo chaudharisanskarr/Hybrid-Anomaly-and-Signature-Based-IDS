{
  "cells": [
    {
      "cell_type": "code",
      "execution_count": 5,
      "metadata": {
        "id": "9rpWcrDwFPRy"
      },
      "outputs": [],
      "source": [
        "import numpy as np\n",
        "import pandas as pd\n",
        "import matplotlib.pyplot as plt\n",
        "import seaborn as sns\n",
        "from sklearn.preprocessing import LabelEncoder, StandardScaler\n",
        "from sklearn.ensemble import RandomForestClassifier\n",
        "from sklearn.feature_selection import RFE, mutual_info_classif\n",
        "from sklearn.model_selection import KFold\n",
        "from sklearn.linear_model import LogisticRegression\n",
        "from sklearn.metrics import classification_report, confusion_matrix, accuracy_score"
      ]
    },
    {
      "cell_type": "code",
      "execution_count": 6,
      "metadata": {
        "id": "ZtOkQ9pGFmmM"
      },
      "outputs": [],
      "source": [
        "# Load Data\n",
        "train_data = pd.read_csv(\"./content/KDDTrain+.txt\")\n",
        "test_data = pd.read_csv(\"./content/KDDTest+.txt\")"
      ]
    },
    {
      "cell_type": "code",
      "execution_count": 7,
      "metadata": {
        "id": "ZOS2amLIFpzG"
      },
      "outputs": [],
      "source": [
        "columns = ['duration', 'protocol_type', 'service', 'flag', 'src_bytes', 'dst_bytes', 'land', 'wrong_fragment',\n",
        "           'urgent', 'hot', 'num_failed_logins', 'logged_in', 'num_compromised', 'root_shell', 'su_attempted',\n",
        "           'num_root', 'num_file_creations', 'num_shells', 'num_access_files', 'num_outbound_cmds', 'is_host_login',\n",
        "           'is_guest_login', 'count', 'srv_count', 'serror_rate', 'srv_serror_rate', 'rerror_rate', 'srv_rerror_rate',\n",
        "           'same_srv_rate', 'diff_srv_rate', 'srv_diff_host_rate', 'dst_host_count', 'dst_host_srv_count',\n",
        "           'dst_host_same_srv_rate', 'dst_host_diff_srv_rate', 'dst_host_same_src_port_rate',\n",
        "           'dst_host_srv_diff_host_rate', 'dst_host_serror_rate', 'dst_host_srv_serror_rate', 'dst_host_rerror_rate',\n",
        "           'dst_host_srv_rerror_rate', 'attack', 'level']"
      ]
    },
    {
      "cell_type": "code",
      "execution_count": 8,
      "metadata": {
        "id": "EMkLkbltFrJz"
      },
      "outputs": [],
      "source": [
        "train_data.columns = columns\n",
        "test_data.columns = columns"
      ]
    },
    {
      "cell_type": "code",
      "execution_count": 9,
      "metadata": {
        "id": "H63wqnVjFs4T"
      },
      "outputs": [],
      "source": [
        "full_data = pd.concat([train_data, test_data], ignore_index=True)"
      ]
    },
    {
      "cell_type": "code",
      "execution_count": 10,
      "metadata": {
        "id": "XO0VaUn4FufD"
      },
      "outputs": [],
      "source": [
        "# Encode categorical features\n",
        "label_encoders = {}\n",
        "for column in ['protocol_type', 'service', 'flag']:\n",
        "    le = LabelEncoder()\n",
        "    full_data[column] = le.fit_transform(full_data[column])\n",
        "    label_encoders[column] = le"
      ]
    },
    {
      "cell_type": "code",
      "execution_count": 11,
      "metadata": {
        "id": "SmqsH4ICFwAL"
      },
      "outputs": [],
      "source": [
        "# Binary classification: normal vs. attack\n",
        "full_data['attack'] = full_data['attack'].apply(lambda x: 1 if x != 'normal' else 0)\n",
        "\n",
        "X = full_data.drop(['attack', 'level'], axis=1)\n",
        "y = full_data['attack']"
      ]
    },
    {
      "cell_type": "code",
      "execution_count": 12,
      "metadata": {
        "colab": {
          "base_uri": "https://localhost:8080/",
          "height": 164
        },
        "id": "b0z1g4VvFxcg",
        "outputId": "632fa6ce-2aaa-439d-a5b4-67c598d7af32"
      },
      "outputs": [
        {
          "data": {
            "text/html": [
              "<style>#sk-container-id-1 {color: black;}#sk-container-id-1 pre{padding: 0;}#sk-container-id-1 div.sk-toggleable {background-color: white;}#sk-container-id-1 label.sk-toggleable__label {cursor: pointer;display: block;width: 100%;margin-bottom: 0;padding: 0.3em;box-sizing: border-box;text-align: center;}#sk-container-id-1 label.sk-toggleable__label-arrow:before {content: \"▸\";float: left;margin-right: 0.25em;color: #696969;}#sk-container-id-1 label.sk-toggleable__label-arrow:hover:before {color: black;}#sk-container-id-1 div.sk-estimator:hover label.sk-toggleable__label-arrow:before {color: black;}#sk-container-id-1 div.sk-toggleable__content {max-height: 0;max-width: 0;overflow: hidden;text-align: left;background-color: #f0f8ff;}#sk-container-id-1 div.sk-toggleable__content pre {margin: 0.2em;color: black;border-radius: 0.25em;background-color: #f0f8ff;}#sk-container-id-1 input.sk-toggleable__control:checked~div.sk-toggleable__content {max-height: 200px;max-width: 100%;overflow: auto;}#sk-container-id-1 input.sk-toggleable__control:checked~label.sk-toggleable__label-arrow:before {content: \"▾\";}#sk-container-id-1 div.sk-estimator input.sk-toggleable__control:checked~label.sk-toggleable__label {background-color: #d4ebff;}#sk-container-id-1 div.sk-label input.sk-toggleable__control:checked~label.sk-toggleable__label {background-color: #d4ebff;}#sk-container-id-1 input.sk-hidden--visually {border: 0;clip: rect(1px 1px 1px 1px);clip: rect(1px, 1px, 1px, 1px);height: 1px;margin: -1px;overflow: hidden;padding: 0;position: absolute;width: 1px;}#sk-container-id-1 div.sk-estimator {font-family: monospace;background-color: #f0f8ff;border: 1px dotted black;border-radius: 0.25em;box-sizing: border-box;margin-bottom: 0.5em;}#sk-container-id-1 div.sk-estimator:hover {background-color: #d4ebff;}#sk-container-id-1 div.sk-parallel-item::after {content: \"\";width: 100%;border-bottom: 1px solid gray;flex-grow: 1;}#sk-container-id-1 div.sk-label:hover label.sk-toggleable__label {background-color: #d4ebff;}#sk-container-id-1 div.sk-serial::before {content: \"\";position: absolute;border-left: 1px solid gray;box-sizing: border-box;top: 0;bottom: 0;left: 50%;z-index: 0;}#sk-container-id-1 div.sk-serial {display: flex;flex-direction: column;align-items: center;background-color: white;padding-right: 0.2em;padding-left: 0.2em;position: relative;}#sk-container-id-1 div.sk-item {position: relative;z-index: 1;}#sk-container-id-1 div.sk-parallel {display: flex;align-items: stretch;justify-content: center;background-color: white;position: relative;}#sk-container-id-1 div.sk-item::before, #sk-container-id-1 div.sk-parallel-item::before {content: \"\";position: absolute;border-left: 1px solid gray;box-sizing: border-box;top: 0;bottom: 0;left: 50%;z-index: -1;}#sk-container-id-1 div.sk-parallel-item {display: flex;flex-direction: column;z-index: 1;position: relative;background-color: white;}#sk-container-id-1 div.sk-parallel-item:first-child::after {align-self: flex-end;width: 50%;}#sk-container-id-1 div.sk-parallel-item:last-child::after {align-self: flex-start;width: 50%;}#sk-container-id-1 div.sk-parallel-item:only-child::after {width: 0;}#sk-container-id-1 div.sk-dashed-wrapped {border: 1px dashed gray;margin: 0 0.4em 0.5em 0.4em;box-sizing: border-box;padding-bottom: 0.4em;background-color: white;}#sk-container-id-1 div.sk-label label {font-family: monospace;font-weight: bold;display: inline-block;line-height: 1.2em;}#sk-container-id-1 div.sk-label-container {text-align: center;}#sk-container-id-1 div.sk-container {/* jupyter's `normalize.less` sets `[hidden] { display: none; }` but bootstrap.min.css set `[hidden] { display: none !important; }` so we also need the `!important` here to be able to override the default hidden behavior on the sphinx rendered scikit-learn.org. See: https://github.com/scikit-learn/scikit-learn/issues/21755 */display: inline-block !important;position: relative;}#sk-container-id-1 div.sk-text-repr-fallback {display: none;}</style><div id=\"sk-container-id-1\" class=\"sk-top-container\"><div class=\"sk-text-repr-fallback\"><pre>RFE(estimator=RandomForestClassifier(random_state=42), n_features_to_select=36)</pre><b>In a Jupyter environment, please rerun this cell to show the HTML representation or trust the notebook. <br />On GitHub, the HTML representation is unable to render, please try loading this page with nbviewer.org.</b></div><div class=\"sk-container\" hidden><div class=\"sk-item sk-dashed-wrapped\"><div class=\"sk-label-container\"><div class=\"sk-label sk-toggleable\"><input class=\"sk-toggleable__control sk-hidden--visually\" id=\"sk-estimator-id-1\" type=\"checkbox\" ><label for=\"sk-estimator-id-1\" class=\"sk-toggleable__label sk-toggleable__label-arrow\">RFE</label><div class=\"sk-toggleable__content\"><pre>RFE(estimator=RandomForestClassifier(random_state=42), n_features_to_select=36)</pre></div></div></div><div class=\"sk-parallel\"><div class=\"sk-parallel-item\"><div class=\"sk-item\"><div class=\"sk-label-container\"><div class=\"sk-label sk-toggleable\"><input class=\"sk-toggleable__control sk-hidden--visually\" id=\"sk-estimator-id-2\" type=\"checkbox\" ><label for=\"sk-estimator-id-2\" class=\"sk-toggleable__label sk-toggleable__label-arrow\">estimator: RandomForestClassifier</label><div class=\"sk-toggleable__content\"><pre>RandomForestClassifier(random_state=42)</pre></div></div></div><div class=\"sk-serial\"><div class=\"sk-item\"><div class=\"sk-estimator sk-toggleable\"><input class=\"sk-toggleable__control sk-hidden--visually\" id=\"sk-estimator-id-3\" type=\"checkbox\" ><label for=\"sk-estimator-id-3\" class=\"sk-toggleable__label sk-toggleable__label-arrow\">RandomForestClassifier</label><div class=\"sk-toggleable__content\"><pre>RandomForestClassifier(random_state=42)</pre></div></div></div></div></div></div></div></div></div></div>"
            ],
            "text/plain": [
              "RFE(estimator=RandomForestClassifier(random_state=42), n_features_to_select=36)"
            ]
          },
          "execution_count": 12,
          "metadata": {},
          "output_type": "execute_result"
        }
      ],
      "source": [
        "# Feature Selection with RFE\n",
        "rf = RandomForestClassifier(n_estimators=100, random_state=42)\n",
        "n_features_to_keep = int(0.9 * X.shape[1])\n",
        "rfe = RFE(rf, n_features_to_select=n_features_to_keep)\n",
        "rfe.fit(X, y)"
      ]
    },
    {
      "cell_type": "code",
      "execution_count": 13,
      "metadata": {
        "id": "jljgkOWHFy6e"
      },
      "outputs": [],
      "source": [
        "X_rfe_selected = X.loc[:, rfe.support_]\n",
        "feature_ranks = pd.DataFrame({'Feature': X.columns, 'Rank': rfe.ranking_, 'Selected': rfe.support_})"
      ]
    },
    {
      "cell_type": "code",
      "execution_count": 14,
      "metadata": {
        "colab": {
          "base_uri": "https://localhost:8080/"
        },
        "id": "3SR_K3sxGpBz",
        "outputId": "c8dbdb4b-02a8-4570-de3f-50f39aff4d0d"
      },
      "outputs": [
        {
          "name": "stdout",
          "output_type": "stream",
          "text": [
            "Selected Features: ['duration', 'protocol_type', 'service', 'flag', 'src_bytes', 'dst_bytes', 'wrong_fragment', 'hot', 'num_failed_logins', 'logged_in', 'num_compromised', 'root_shell', 'num_root', 'num_file_creations', 'num_shells', 'num_access_files', 'is_guest_login', 'count', 'srv_count', 'serror_rate', 'srv_serror_rate', 'rerror_rate', 'srv_rerror_rate', 'same_srv_rate', 'diff_srv_rate', 'srv_diff_host_rate', 'dst_host_count', 'dst_host_srv_count', 'dst_host_same_srv_rate', 'dst_host_diff_srv_rate', 'dst_host_same_src_port_rate', 'dst_host_srv_diff_host_rate', 'dst_host_serror_rate', 'dst_host_srv_serror_rate', 'dst_host_rerror_rate', 'dst_host_srv_rerror_rate']\n",
            "Number of Features Retained: 36\n"
          ]
        }
      ],
      "source": [
        "# Display selected features\n",
        "print(\"Selected Features:\", list(X_rfe_selected.columns))\n",
        "print(\"Number of Features Retained:\", X_rfe_selected.shape[1])\n"
      ]
    },
    {
      "cell_type": "code",
      "execution_count": 15,
      "metadata": {
        "colab": {
          "base_uri": "https://localhost:8080/"
        },
        "id": "jB7DGzv-GrEt",
        "outputId": "23653d5d-968d-473f-866f-d4e7d482b9c2"
      },
      "outputs": [
        {
          "name": "stdout",
          "output_type": "stream",
          "text": [
            "\n",
            "Feature Importance Ranking (Lower is Better):\n",
            "                        Feature  Rank  Selected\n",
            "0                      duration     1      True\n",
            "22                        count     1      True\n",
            "23                    srv_count     1      True\n",
            "24                  serror_rate     1      True\n",
            "25              srv_serror_rate     1      True\n",
            "26                  rerror_rate     1      True\n",
            "27              srv_rerror_rate     1      True\n",
            "28                same_srv_rate     1      True\n",
            "29                diff_srv_rate     1      True\n",
            "30           srv_diff_host_rate     1      True\n",
            "31               dst_host_count     1      True\n",
            "32           dst_host_srv_count     1      True\n",
            "33       dst_host_same_srv_rate     1      True\n",
            "34       dst_host_diff_srv_rate     1      True\n",
            "35  dst_host_same_src_port_rate     1      True\n",
            "36  dst_host_srv_diff_host_rate     1      True\n",
            "37         dst_host_serror_rate     1      True\n",
            "38     dst_host_srv_serror_rate     1      True\n",
            "21               is_guest_login     1      True\n",
            "39         dst_host_rerror_rate     1      True\n",
            "40     dst_host_srv_rerror_rate     1      True\n",
            "18             num_access_files     1      True\n",
            "1                 protocol_type     1      True\n",
            "2                       service     1      True\n",
            "3                          flag     1      True\n",
            "4                     src_bytes     1      True\n",
            "5                     dst_bytes     1      True\n",
            "7                wrong_fragment     1      True\n",
            "10            num_failed_logins     1      True\n",
            "9                           hot     1      True\n",
            "12              num_compromised     1      True\n",
            "13                   root_shell     1      True\n",
            "15                     num_root     1      True\n",
            "16           num_file_creations     1      True\n",
            "17                   num_shells     1      True\n",
            "11                    logged_in     1      True\n",
            "8                        urgent     2     False\n",
            "20                is_host_login     3     False\n",
            "14                 su_attempted     4     False\n",
            "6                          land     5     False\n",
            "19            num_outbound_cmds     6     False\n"
          ]
        }
      ],
      "source": [
        "# Sort and display feature rankings (1 means most important)\n",
        "feature_ranks = feature_ranks.sort_values(by='Rank')\n",
        "print(\"\\nFeature Importance Ranking (Lower is Better):\")\n",
        "print(feature_ranks)"
      ]
    },
    {
      "cell_type": "code",
      "execution_count": 16,
      "metadata": {
        "id": "bNxZN3iDGvVD"
      },
      "outputs": [],
      "source": [
        "# Mutual Information for Feature Filtering\n",
        "mi_scores = mutual_info_classif(X_rfe_selected, y, random_state=42)\n",
        "mi_threshold = np.percentile(mi_scores, 20)\n",
        "final_selected_features = X_rfe_selected.columns[mi_scores > mi_threshold]\n",
        "X_final = X_rfe_selected[final_selected_features]"
      ]
    },
    {
      "cell_type": "code",
      "execution_count": 17,
      "metadata": {
        "colab": {
          "base_uri": "https://localhost:8080/"
        },
        "id": "YaavhdDNGxfs",
        "outputId": "cca2bf8d-fc29-46c8-d30e-1f15693b9ff7"
      },
      "outputs": [
        {
          "name": "stdout",
          "output_type": "stream",
          "text": [
            "Mutual Information Threshold (30th percentile): 0.0035042596418286553\n"
          ]
        }
      ],
      "source": [
        "print(\"Mutual Information Threshold (30th percentile):\", mi_threshold)"
      ]
    },
    {
      "cell_type": "code",
      "execution_count": 18,
      "metadata": {
        "colab": {
          "base_uri": "https://localhost:8080/",
          "height": 215
        },
        "id": "WuClFLW8GzQE",
        "outputId": "a80935a8-5389-42f7-a670-e699adc58eeb"
      },
      "outputs": [
        {
          "data": {
            "text/plain": [
              "<Axes: >"
            ]
          },
          "execution_count": 18,
          "metadata": {},
          "output_type": "execute_result"
        },
        {
          "data": {
            "image/png": "[encoded data removed]",
            "text/plain": [
              "<Figure size 2000x500 with 1 Axes>"
            ]
          },
          "metadata": {},
          "output_type": "display_data"
        }
      ],
      "source": [
        "import pandas as pd\n",
        "\n",
        "mi_scores = pd.Series(mi_scores)  # Convert NumPy array to Pandas Series\n",
        "mi_scores.sort_values(ascending=False).plot.bar(figsize=(20, 5))\n"
      ]
    },
    {
      "cell_type": "code",
      "execution_count": 19,
      "metadata": {
        "colab": {
          "base_uri": "https://localhost:8080/"
        },
        "id": "dAOO8mC2HEnk",
        "outputId": "4cbaa47d-b78c-4478-fa9c-b52226b7dc25"
      },
      "outputs": [
        {
          "name": "stdout",
          "output_type": "stream",
          "text": [
            "Selected Features after Mutual Information Filtering:\n",
            "['duration', 'protocol_type', 'service', 'flag', 'src_bytes', 'dst_bytes', 'hot', 'logged_in', 'num_compromised', 'count', 'srv_count', 'serror_rate', 'srv_serror_rate', 'rerror_rate', 'srv_rerror_rate', 'same_srv_rate', 'diff_srv_rate', 'srv_diff_host_rate', 'dst_host_count', 'dst_host_srv_count', 'dst_host_same_srv_rate', 'dst_host_diff_srv_rate', 'dst_host_same_src_port_rate', 'dst_host_srv_diff_host_rate', 'dst_host_serror_rate', 'dst_host_srv_serror_rate', 'dst_host_rerror_rate', 'dst_host_srv_rerror_rate']\n",
            "\n",
            "Number of Columns Retained: 28\n"
          ]
        }
      ],
      "source": [
        "# Display the selected features\n",
        "print(\"Selected Features after Mutual Information Filtering:\")\n",
        "print(final_selected_features.tolist())\n",
        "print(f\"\\nNumber of Columns Retained: {len(final_selected_features)}\")"
      ]
    },
    {
      "cell_type": "code",
      "execution_count": 20,
      "metadata": {
        "id": "q-UVySp2HS3m"
      },
      "outputs": [],
      "source": [
        "# Standardize Data\n",
        "scaler = StandardScaler()\n",
        "X_final = scaler.fit_transform(X_final)"
      ]
    },
    {
      "cell_type": "code",
      "execution_count": 21,
      "metadata": {
        "id": "RBGWg2cXHUq9"
      },
      "outputs": [
        {
          "name": "stdout",
          "output_type": "stream",
          "text": [
            "WARNING:tensorflow:From c:\\Users\\harsh\\anaconda3\\Lib\\site-packages\\keras\\src\\losses.py:2976: The name tf.losses.sparse_softmax_cross_entropy is deprecated. Please use tf.compat.v1.losses.sparse_softmax_cross_entropy instead.\n",
            "\n"
          ]
        }
      ],
      "source": [
        "from sklearn.ensemble import IsolationForest\n",
        "from tensorflow.keras.models import Sequential\n",
        "from tensorflow.keras.layers import LSTM, Dense, Dropout\n",
        "from sklearn.metrics import accuracy_score, precision_score, recall_score, f1_score, confusion_matrix, classification_report\n",
        "from sklearn.model_selection import StratifiedKFold\n",
        "import numpy as np\n",
        "import matplotlib.pyplot as plt"
      ]
    },
    {
      "cell_type": "code",
      "execution_count": 22,
      "metadata": {
        "colab": {
          "base_uri": "https://localhost:8080/",
          "height": 80
        },
        "id": "FBfe4oERHfDv",
        "outputId": "551feefa-7b90-488a-d137-eba1b4bb57a3"
      },
      "outputs": [
        {
          "data": {
            "text/html": [
              "<style>#sk-container-id-2 {color: black;}#sk-container-id-2 pre{padding: 0;}#sk-container-id-2 div.sk-toggleable {background-color: white;}#sk-container-id-2 label.sk-toggleable__label {cursor: pointer;display: block;width: 100%;margin-bottom: 0;padding: 0.3em;box-sizing: border-box;text-align: center;}#sk-container-id-2 label.sk-toggleable__label-arrow:before {content: \"▸\";float: left;margin-right: 0.25em;color: #696969;}#sk-container-id-2 label.sk-toggleable__label-arrow:hover:before {color: black;}#sk-container-id-2 div.sk-estimator:hover label.sk-toggleable__label-arrow:before {color: black;}#sk-container-id-2 div.sk-toggleable__content {max-height: 0;max-width: 0;overflow: hidden;text-align: left;background-color: #f0f8ff;}#sk-container-id-2 div.sk-toggleable__content pre {margin: 0.2em;color: black;border-radius: 0.25em;background-color: #f0f8ff;}#sk-container-id-2 input.sk-toggleable__control:checked~div.sk-toggleable__content {max-height: 200px;max-width: 100%;overflow: auto;}#sk-container-id-2 input.sk-toggleable__control:checked~label.sk-toggleable__label-arrow:before {content: \"▾\";}#sk-container-id-2 div.sk-estimator input.sk-toggleable__control:checked~label.sk-toggleable__label {background-color: #d4ebff;}#sk-container-id-2 div.sk-label input.sk-toggleable__control:checked~label.sk-toggleable__label {background-color: #d4ebff;}#sk-container-id-2 input.sk-hidden--visually {border: 0;clip: rect(1px 1px 1px 1px);clip: rect(1px, 1px, 1px, 1px);height: 1px;margin: -1px;overflow: hidden;padding: 0;position: absolute;width: 1px;}#sk-container-id-2 div.sk-estimator {font-family: monospace;background-color: #f0f8ff;border: 1px dotted black;border-radius: 0.25em;box-sizing: border-box;margin-bottom: 0.5em;}#sk-container-id-2 div.sk-estimator:hover {background-color: #d4ebff;}#sk-container-id-2 div.sk-parallel-item::after {content: \"\";width: 100%;border-bottom: 1px solid gray;flex-grow: 1;}#sk-container-id-2 div.sk-label:hover label.sk-toggleable__label {background-color: #d4ebff;}#sk-container-id-2 div.sk-serial::before {content: \"\";position: absolute;border-left: 1px solid gray;box-sizing: border-box;top: 0;bottom: 0;left: 50%;z-index: 0;}#sk-container-id-2 div.sk-serial {display: flex;flex-direction: column;align-items: center;background-color: white;padding-right: 0.2em;padding-left: 0.2em;position: relative;}#sk-container-id-2 div.sk-item {position: relative;z-index: 1;}#sk-container-id-2 div.sk-parallel {display: flex;align-items: stretch;justify-content: center;background-color: white;position: relative;}#sk-container-id-2 div.sk-item::before, #sk-container-id-2 div.sk-parallel-item::before {content: \"\";position: absolute;border-left: 1px solid gray;box-sizing: border-box;top: 0;bottom: 0;left: 50%;z-index: -1;}#sk-container-id-2 div.sk-parallel-item {display: flex;flex-direction: column;z-index: 1;position: relative;background-color: white;}#sk-container-id-2 div.sk-parallel-item:first-child::after {align-self: flex-end;width: 50%;}#sk-container-id-2 div.sk-parallel-item:last-child::after {align-self: flex-start;width: 50%;}#sk-container-id-2 div.sk-parallel-item:only-child::after {width: 0;}#sk-container-id-2 div.sk-dashed-wrapped {border: 1px dashed gray;margin: 0 0.4em 0.5em 0.4em;box-sizing: border-box;padding-bottom: 0.4em;background-color: white;}#sk-container-id-2 div.sk-label label {font-family: monospace;font-weight: bold;display: inline-block;line-height: 1.2em;}#sk-container-id-2 div.sk-label-container {text-align: center;}#sk-container-id-2 div.sk-container {/* jupyter's `normalize.less` sets `[hidden] { display: none; }` but bootstrap.min.css set `[hidden] { display: none !important; }` so we also need the `!important` here to be able to override the default hidden behavior on the sphinx rendered scikit-learn.org. See: https://github.com/scikit-learn/scikit-learn/issues/21755 */display: inline-block !important;position: relative;}#sk-container-id-2 div.sk-text-repr-fallback {display: none;}</style><div id=\"sk-container-id-2\" class=\"sk-top-container\"><div class=\"sk-text-repr-fallback\"><pre>IsolationForest(contamination=0.1, random_state=42)</pre><b>In a Jupyter environment, please rerun this cell to show the HTML representation or trust the notebook. <br />On GitHub, the HTML representation is unable to render, please try loading this page with nbviewer.org.</b></div><div class=\"sk-container\" hidden><div class=\"sk-item\"><div class=\"sk-estimator sk-toggleable\"><input class=\"sk-toggleable__control sk-hidden--visually\" id=\"sk-estimator-id-4\" type=\"checkbox\" checked><label for=\"sk-estimator-id-4\" class=\"sk-toggleable__label sk-toggleable__label-arrow\">IsolationForest</label><div class=\"sk-toggleable__content\"><pre>IsolationForest(contamination=0.1, random_state=42)</pre></div></div></div></div></div>"
            ],
            "text/plain": [
              "IsolationForest(contamination=0.1, random_state=42)"
            ]
          },
          "execution_count": 22,
          "metadata": {},
          "output_type": "execute_result"
        }
      ],
      "source": [
        "iso_forest = IsolationForest(n_estimators=100, contamination=0.1, random_state=42)\n",
        "iso_forest.fit(X_final)"
      ]
    },
    {
      "cell_type": "code",
      "execution_count": 23,
      "metadata": {
        "id": "AupP89elHjto"
      },
      "outputs": [],
      "source": [
        "# Step 2: Predict Anomalies\n",
        "iso_labels = iso_forest.predict(X_final)\n",
        "iso_labels = np.where(iso_labels == -1, 1, 0)  # Convert anomalies (-1) to attack (1), normal (1) to 0\n"
      ]
    },
    {
      "cell_type": "code",
      "execution_count": 24,
      "metadata": {
        "id": "bUXeKzDBHlih"
      },
      "outputs": [],
      "source": [
        "# Step 3: Filter Data\n",
        "X_filtered = X_final[iso_labels == 0]  # Keep normal data for LSTM training\n",
        "y_filtered = y[iso_labels == 0]"
      ]
    },
    {
      "cell_type": "code",
      "execution_count": 25,
      "metadata": {
        "id": "BZiQzGUrJcKj"
      },
      "outputs": [],
      "source": [
        "X_filtered = X_filtered.reshape((X_filtered.shape[0], 1, X_filtered.shape[1]))"
      ]
    },
    {
      "cell_type": "code",
      "execution_count": 26,
      "metadata": {
        "id": "FdyLxzxwH3TW"
      },
      "outputs": [],
      "source": [
        "from sklearn.model_selection import StratifiedKFold\n",
        "from sklearn.metrics import accuracy_score, precision_score, recall_score, f1_score, confusion_matrix, classification_report\n",
        "import numpy as np\n",
        "import matplotlib.pyplot as plt\n",
        "\n",
        "X_filtered = np.array(X_filtered)\n",
        "y_filtered = np.array(y_filtered)\n",
        "\n",
        "# Define LSTM input shape\n",
        "timesteps = 1  # Adjust as needed\n",
        "features = X_filtered.shape[1]\n",
        "\n",
        "kf = StratifiedKFold(n_splits=10, shuffle=True, random_state=42)\n",
        "fold_accuracies, fold_precisions, fold_recalls, fold_f1s = [], [], [], []"
      ]
    },
    {
      "cell_type": "code",
      "execution_count": 27,
      "metadata": {
        "colab": {
          "base_uri": "https://localhost:8080/"
        },
        "id": "0x6A9Uo5JCZn",
        "outputId": "d7c82370-b8de-4bad-a949-bed255e9f439"
      },
      "outputs": [
        {
          "name": "stdout",
          "output_type": "stream",
          "text": [
            "Fold 1 - Before Reshaping:\n",
            "X_train shape: (120296, 1, 28), y_train shape: (120296,)\n",
            "X_test shape: (13367, 1, 28), y_test shape: (13367,)\n",
            "Fold 1 - After Reshaping: X_train shape: (120296, 1, 28), X_test shape: (13367, 1, 28)\n",
            "WARNING:tensorflow:From c:\\Users\\harsh\\anaconda3\\Lib\\site-packages\\keras\\src\\layers\\rnn\\lstm.py:148: The name tf.executing_eagerly_outside_functions is deprecated. Please use tf.compat.v1.executing_eagerly_outside_functions instead.\n",
            "\n",
            "WARNING:tensorflow:From c:\\Users\\harsh\\anaconda3\\Lib\\site-packages\\keras\\src\\optimizers\\__init__.py:309: The name tf.train.Optimizer is deprecated. Please use tf.compat.v1.train.Optimizer instead.\n",
            "\n",
            "WARNING:tensorflow:From c:\\Users\\harsh\\anaconda3\\Lib\\site-packages\\keras\\src\\utils\\tf_utils.py:492: The name tf.ragged.RaggedTensorValue is deprecated. Please use tf.compat.v1.ragged.RaggedTensorValue instead.\n",
            "\n",
            "WARNING:tensorflow:From c:\\Users\\harsh\\anaconda3\\Lib\\site-packages\\keras\\src\\engine\\base_layer_utils.py:384: The name tf.executing_eagerly_outside_functions is deprecated. Please use tf.compat.v1.executing_eagerly_outside_functions instead.\n",
            "\n",
            "418/418 [==============================] - 1s 2ms/step\n",
            "Fold 1 Results:\n",
            "[[7263   65]\n",
            " [  74 5965]]\n",
            "              precision    recall  f1-score   support\n",
            "\n",
            "           0       0.99      0.99      0.99      7328\n",
            "           1       0.99      0.99      0.99      6039\n",
            "\n",
            "    accuracy                           0.99     13367\n",
            "   macro avg       0.99      0.99      0.99     13367\n",
            "weighted avg       0.99      0.99      0.99     13367\n",
            "\n",
            "--------------------------------------------------\n",
            "Fold 2 - Before Reshaping:\n",
            "X_train shape: (120296, 1, 28), y_train shape: (120296,)\n",
            "X_test shape: (13367, 1, 28), y_test shape: (13367,)\n",
            "Fold 2 - After Reshaping: X_train shape: (120296, 1, 28), X_test shape: (13367, 1, 28)\n",
            "418/418 [==============================] - 1s 2ms/step\n",
            "Fold 2 Results:\n",
            "[[7266   61]\n",
            " [ 110 5930]]\n",
            "              precision    recall  f1-score   support\n",
            "\n",
            "           0       0.99      0.99      0.99      7327\n",
            "           1       0.99      0.98      0.99      6040\n",
            "\n",
            "    accuracy                           0.99     13367\n",
            "   macro avg       0.99      0.99      0.99     13367\n",
            "weighted avg       0.99      0.99      0.99     13367\n",
            "\n",
            "--------------------------------------------------\n",
            "Fold 3 - Before Reshaping:\n",
            "X_train shape: (120296, 1, 28), y_train shape: (120296,)\n",
            "X_test shape: (13367, 1, 28), y_test shape: (13367,)\n",
            "Fold 3 - After Reshaping: X_train shape: (120296, 1, 28), X_test shape: (13367, 1, 28)\n",
            "418/418 [==============================] - 1s 3ms/step\n",
            "Fold 3 Results:\n",
            "[[7285   42]\n",
            " [ 149 5891]]\n",
            "              precision    recall  f1-score   support\n",
            "\n",
            "           0       0.98      0.99      0.99      7327\n",
            "           1       0.99      0.98      0.98      6040\n",
            "\n",
            "    accuracy                           0.99     13367\n",
            "   macro avg       0.99      0.98      0.99     13367\n",
            "weighted avg       0.99      0.99      0.99     13367\n",
            "\n",
            "--------------------------------------------------\n",
            "Fold 4 - Before Reshaping:\n",
            "X_train shape: (120297, 1, 28), y_train shape: (120297,)\n",
            "X_test shape: (13366, 1, 28), y_test shape: (13366,)\n",
            "Fold 4 - After Reshaping: X_train shape: (120297, 1, 28), X_test shape: (13366, 1, 28)\n",
            "418/418 [==============================] - 1s 2ms/step\n",
            "Fold 4 Results:\n",
            "[[7273   54]\n",
            " [ 115 5924]]\n",
            "              precision    recall  f1-score   support\n",
            "\n",
            "           0       0.98      0.99      0.99      7327\n",
            "           1       0.99      0.98      0.99      6039\n",
            "\n",
            "    accuracy                           0.99     13366\n",
            "   macro avg       0.99      0.99      0.99     13366\n",
            "weighted avg       0.99      0.99      0.99     13366\n",
            "\n",
            "--------------------------------------------------\n",
            "Fold 5 - Before Reshaping:\n",
            "X_train shape: (120297, 1, 28), y_train shape: (120297,)\n",
            "X_test shape: (13366, 1, 28), y_test shape: (13366,)\n",
            "Fold 5 - After Reshaping: X_train shape: (120297, 1, 28), X_test shape: (13366, 1, 28)\n",
            "418/418 [==============================] - 1s 1ms/step\n",
            "Fold 5 Results:\n",
            "[[7257   70]\n",
            " [  67 5972]]\n",
            "              precision    recall  f1-score   support\n",
            "\n",
            "           0       0.99      0.99      0.99      7327\n",
            "           1       0.99      0.99      0.99      6039\n",
            "\n",
            "    accuracy                           0.99     13366\n",
            "   macro avg       0.99      0.99      0.99     13366\n",
            "weighted avg       0.99      0.99      0.99     13366\n",
            "\n",
            "--------------------------------------------------\n",
            "Fold 6 - Before Reshaping:\n",
            "X_train shape: (120297, 1, 28), y_train shape: (120297,)\n",
            "X_test shape: (13366, 1, 28), y_test shape: (13366,)\n",
            "Fold 6 - After Reshaping: X_train shape: (120297, 1, 28), X_test shape: (13366, 1, 28)\n",
            "418/418 [==============================] - 1s 1ms/step\n",
            "Fold 6 Results:\n",
            "[[7260   67]\n",
            " [  77 5962]]\n",
            "              precision    recall  f1-score   support\n",
            "\n",
            "           0       0.99      0.99      0.99      7327\n",
            "           1       0.99      0.99      0.99      6039\n",
            "\n",
            "    accuracy                           0.99     13366\n",
            "   macro avg       0.99      0.99      0.99     13366\n",
            "weighted avg       0.99      0.99      0.99     13366\n",
            "\n",
            "--------------------------------------------------\n",
            "Fold 7 - Before Reshaping:\n",
            "X_train shape: (120297, 1, 28), y_train shape: (120297,)\n",
            "X_test shape: (13366, 1, 28), y_test shape: (13366,)\n",
            "Fold 7 - After Reshaping: X_train shape: (120297, 1, 28), X_test shape: (13366, 1, 28)\n",
            "418/418 [==============================] - 1s 2ms/step\n",
            "Fold 7 Results:\n",
            "[[7211  116]\n",
            " [  72 5967]]\n",
            "              precision    recall  f1-score   support\n",
            "\n",
            "           0       0.99      0.98      0.99      7327\n",
            "           1       0.98      0.99      0.98      6039\n",
            "\n",
            "    accuracy                           0.99     13366\n",
            "   macro avg       0.99      0.99      0.99     13366\n",
            "weighted avg       0.99      0.99      0.99     13366\n",
            "\n",
            "--------------------------------------------------\n",
            "Fold 8 - Before Reshaping:\n",
            "X_train shape: (120297, 1, 28), y_train shape: (120297,)\n",
            "X_test shape: (13366, 1, 28), y_test shape: (13366,)\n",
            "Fold 8 - After Reshaping: X_train shape: (120297, 1, 28), X_test shape: (13366, 1, 28)\n",
            "418/418 [==============================] - 1s 1ms/step\n",
            "Fold 8 Results:\n",
            "[[7276   51]\n",
            " [  68 5971]]\n",
            "              precision    recall  f1-score   support\n",
            "\n",
            "           0       0.99      0.99      0.99      7327\n",
            "           1       0.99      0.99      0.99      6039\n",
            "\n",
            "    accuracy                           0.99     13366\n",
            "   macro avg       0.99      0.99      0.99     13366\n",
            "weighted avg       0.99      0.99      0.99     13366\n",
            "\n",
            "--------------------------------------------------\n",
            "Fold 9 - Before Reshaping:\n",
            "X_train shape: (120297, 1, 28), y_train shape: (120297,)\n",
            "X_test shape: (13366, 1, 28), y_test shape: (13366,)\n",
            "Fold 9 - After Reshaping: X_train shape: (120297, 1, 28), X_test shape: (13366, 1, 28)\n",
            "418/418 [==============================] - 1s 3ms/step\n",
            "Fold 9 Results:\n",
            "[[7286   41]\n",
            " [  89 5950]]\n",
            "              precision    recall  f1-score   support\n",
            "\n",
            "           0       0.99      0.99      0.99      7327\n",
            "           1       0.99      0.99      0.99      6039\n",
            "\n",
            "    accuracy                           0.99     13366\n",
            "   macro avg       0.99      0.99      0.99     13366\n",
            "weighted avg       0.99      0.99      0.99     13366\n",
            "\n",
            "--------------------------------------------------\n",
            "Fold 10 - Before Reshaping:\n",
            "X_train shape: (120297, 1, 28), y_train shape: (120297,)\n",
            "X_test shape: (13366, 1, 28), y_test shape: (13366,)\n",
            "Fold 10 - After Reshaping: X_train shape: (120297, 1, 28), X_test shape: (13366, 1, 28)\n",
            "418/418 [==============================] - 1s 2ms/step\n",
            "Fold 10 Results:\n",
            "[[7238   89]\n",
            " [  64 5975]]\n",
            "              precision    recall  f1-score   support\n",
            "\n",
            "           0       0.99      0.99      0.99      7327\n",
            "           1       0.99      0.99      0.99      6039\n",
            "\n",
            "    accuracy                           0.99     13366\n",
            "   macro avg       0.99      0.99      0.99     13366\n",
            "weighted avg       0.99      0.99      0.99     13366\n",
            "\n",
            "--------------------------------------------------\n"
          ]
        }
      ],
      "source": [
        "for fold, (train_index, test_index) in enumerate(kf.split(X_filtered, y_filtered), 1):\n",
        "    X_train, X_test = X_filtered[train_index], X_filtered[test_index]\n",
        "    y_train, y_test = y_filtered[train_index], y_filtered[test_index]\n",
        "\n",
        "    # Print data shapes before reshaping\n",
        "    print(f\"Fold {fold} - Before Reshaping:\")\n",
        "    print(f\"X_train shape: {X_train.shape}, y_train shape: {y_train.shape}\")\n",
        "    print(f\"X_test shape: {X_test.shape}, y_test shape: {y_test.shape}\")\n",
        "\n",
        "    # Reshape for LSTM only if needed\n",
        "    if len(X_train.shape) == 2:\n",
        "        X_train = X_train.reshape(X_train.shape[0], timesteps, features)\n",
        "        X_test = X_test.reshape(X_test.shape[0], timesteps, features)\n",
        "\n",
        "    print(f\"Fold {fold} - After Reshaping: X_train shape: {X_train.shape}, X_test shape: {X_test.shape}\")\n",
        "\n",
        "    # Skip fold if only one class in y_train\n",
        "    if len(np.unique(y_train)) < 2:\n",
        "        print(f\"Skipping Fold {fold} (Only one class in training data)\")\n",
        "        continue\n",
        "\n",
        "\n",
        "    # LSTM Model\n",
        "    model = Sequential([\n",
        "        LSTM(50, activation='relu', input_shape=(X_train.shape[1], X_train.shape[2])),\n",
        "        Dropout(0.2),\n",
        "        Dense(25, activation='relu'),\n",
        "        Dropout(0.2),\n",
        "        Dense(1, activation='sigmoid')\n",
        "    ])\n",
        "\n",
        "    model.compile(optimizer='adam', loss='binary_crossentropy', metrics=['accuracy'])\n",
        "    model.fit(X_train, y_train, epochs=10, batch_size=32, validation_data=(X_test, y_test), verbose=0)\n",
        "\n",
        "    # Predictions\n",
        "    y_pred = (model.predict(X_test) > 0.5).astype(int)\n",
        "\n",
        "    # Calculate Metrics\n",
        "    acc = accuracy_score(y_test, y_pred)\n",
        "    prec = precision_score(y_test, y_pred, zero_division=0)\n",
        "    rec = recall_score(y_test, y_pred, zero_division=0)\n",
        "    f1 = f1_score(y_test, y_pred, zero_division=0)\n",
        "\n",
        "    fold_accuracies.append(acc)\n",
        "    fold_precisions.append(prec)\n",
        "    fold_recalls.append(rec)\n",
        "    fold_f1s.append(f1)\n",
        "\n",
        "    # Print fold results\n",
        "    print(f\"Fold {fold} Results:\")\n",
        "    print(confusion_matrix(y_test, y_pred))\n",
        "    print(classification_report(y_test, y_pred))\n",
        "    print(\"-\" * 50)\n"
      ]
    },
    {
      "cell_type": "code",
      "execution_count": 28,
      "metadata": {
        "colab": {
          "base_uri": "https://localhost:8080/",
          "height": 530
        },
        "id": "RVpa-hcJMEF8",
        "outputId": "85ab8747-75a2-4700-8568-019b14ecba01"
      },
      "outputs": [
        {
          "name": "stdout",
          "output_type": "stream",
          "text": [
            "Average Accuracay: 0.9885\n",
            "Average Precision: 0.9891\n",
            "Average Recall: 0.9853\n",
            "Average F1-score: 0.9872\n"
          ]
        },
        {
          "data": {
            "image/png": "[encoded data removed]",
            "text/plain": [
              "<Figure size 800x500 with 1 Axes>"
            ]
          },
          "metadata": {},
          "output_type": "display_data"
        }
      ],
      "source": [
        "if fold_accuracies:\n",
        "    avg_acc = np.mean(fold_accuracies)\n",
        "    avg_prec = np.mean(fold_precisions)\n",
        "    avg_rec = np.mean(fold_recalls)\n",
        "    avg_f1 = np.mean(fold_f1s)\n",
        "\n",
        "    print(f\"Average Accuracay: {avg_acc:.4f}\")\n",
        "    print(f\"Average Precision: {avg_prec:.4f}\")\n",
        "    print(f\"Average Recall: {avg_rec:.4f}\")\n",
        "    print(f\"Average F1-score: {avg_f1:.4f}\")\n",
        "\n",
        "    #Plot performance across folds\n",
        "    plt.figure(figsize=(8,5))\n",
        "    plt.plot(range(1, len(fold_accuracies) + 1), fold_accuracies, marker='o', label='Accuracy')\n",
        "    plt.plot(range(1, len(fold_precisions) + 1), fold_precisions, marker='s', label='Precision')\n",
        "    plt.plot(range(1, len(fold_recalls) + 1), fold_recalls, marker='^', label='Recall')\n",
        "    plt.plot(range(1, len(fold_f1s) + 1), fold_f1s, marker='d', label='F1-score')\n",
        "\n",
        "    plt.xticks(range(1, len(fold_accuracies) + 1))\n",
        "    plt.xlabel('Fold Number')\n",
        "    plt.ylabel('Metric Score')\n",
        "    plt.title('Cross-Validation Performance')\n",
        "    plt.legend()\n",
        "    plt.grid()\n",
        "    plt.show()\n",
        "else:\n",
        "    print(\"No valid folds with both classes. Check dataset balance.\")"
      ]
    },
    {
      "cell_type": "code",
      "execution_count": null,
      "metadata": {
        "id": "brUF-b6CQcS1"
      },
      "outputs": [],
      "source": []
    }
  ],
  "metadata": {
    "colab": {
      "provenance": []
    },
    "kernelspec": {
      "display_name": "base",
      "language": "python",
      "name": "python3"
    },
    "language_info": {
      "codemirror_mode": {
        "name": "ipython",
        "version": 3
      },
      "file_extension": ".py",
      "mimetype": "text/x-python",
      "name": "python",
      "nbconvert_exporter": "python",
      "pygments_lexer": "ipython3",
      "version": "3.11.5"
    }
  },
  "nbformat": 4,
  "nbformat_minor": 0
}
