{
  "cells": [
    {
      "cell_type": "code",
      "execution_count": 3,
      "metadata": {
        "colab": {
          "base_uri": "https://localhost:8080/"
        },
        "id": "q6Bv7Gmg_iDH",
        "outputId": "ab4d604b-e2b5-463b-a01d-8e9acb57d3e8"
      },
      "outputs": [
        {
          "name": "stdout",
          "output_type": "stream",
          "text": [
            "Requirement already satisfied: pyarrow in c:\\users\\harsh\\anaconda3\\lib\\site-packages (11.0.0)\n",
            "Requirement already satisfied: scikit-learn in c:\\users\\harsh\\anaconda3\\lib\\site-packages (1.2.2)\n",
            "Requirement already satisfied: pandas in c:\\users\\harsh\\anaconda3\\lib\\site-packages (2.0.3)\n",
            "Requirement already satisfied: keras in c:\\users\\harsh\\anaconda3\\lib\\site-packages (2.15.0)\n",
            "Requirement already satisfied: matplotlib in c:\\users\\harsh\\anaconda3\\lib\\site-packages (3.7.2)\n",
            "Requirement already satisfied: seaborn in c:\\users\\harsh\\anaconda3\\lib\\site-packages (0.12.2)\n",
            "Requirement already satisfied: numpy>=1.16.6 in c:\\users\\harsh\\anaconda3\\lib\\site-packages (from pyarrow) (1.24.3)\n",
            "Requirement already satisfied: scipy>=1.3.2 in c:\\users\\harsh\\anaconda3\\lib\\site-packages (from scikit-learn) (1.11.1)\n",
            "Requirement already satisfied: joblib>=1.1.1 in c:\\users\\harsh\\anaconda3\\lib\\site-packages (from scikit-learn) (1.2.0)\n",
            "Requirement already satisfied: threadpoolctl>=2.0.0 in c:\\users\\harsh\\anaconda3\\lib\\site-packages (from scikit-learn) (3.6.0)\n",
            "Requirement already satisfied: python-dateutil>=2.8.2 in c:\\users\\harsh\\anaconda3\\lib\\site-packages (from pandas) (2.8.2)\n",
            "Requirement already satisfied: pytz>=2020.1 in c:\\users\\harsh\\anaconda3\\lib\\site-packages (from pandas) (2023.3.post1)\n",
            "Requirement already satisfied: tzdata>=2022.1 in c:\\users\\harsh\\anaconda3\\lib\\site-packages (from pandas) (2023.3)\n",
            "Requirement already satisfied: contourpy>=1.0.1 in c:\\users\\harsh\\anaconda3\\lib\\site-packages (from matplotlib) (1.0.5)\n",
            "Requirement already satisfied: cycler>=0.10 in c:\\users\\harsh\\anaconda3\\lib\\site-packages (from matplotlib) (0.11.0)\n",
            "Requirement already satisfied: fonttools>=4.22.0 in c:\\users\\harsh\\anaconda3\\lib\\site-packages (from matplotlib) (4.25.0)\n",
            "Requirement already satisfied: kiwisolver>=1.0.1 in c:\\users\\harsh\\anaconda3\\lib\\site-packages (from matplotlib) (1.4.4)\n",
            "Requirement already satisfied: packaging>=20.0 in c:\\users\\harsh\\anaconda3\\lib\\site-packages (from matplotlib) (23.1)\n",
            "Requirement already satisfied: pillow>=6.2.0 in c:\\users\\harsh\\anaconda3\\lib\\site-packages (from matplotlib) (9.4.0)\n",
            "Requirement already satisfied: pyparsing<3.1,>=2.3.1 in c:\\users\\harsh\\anaconda3\\lib\\site-packages (from matplotlib) (3.0.9)\n",
            "Requirement already satisfied: six>=1.5 in c:\\users\\harsh\\anaconda3\\lib\\site-packages (from python-dateutil>=2.8.2->pandas) (1.16.0)\n"
          ]
        }
      ],
      "source": [
        "!pip install pyarrow scikit-learn pandas keras matplotlib seaborn"
      ]
    },
    {
      "cell_type": "code",
      "execution_count": 4,
      "metadata": {
        "id": "wv0Nf6ik_mQo"
      },
      "outputs": [
        {
          "name": "stdout",
          "output_type": "stream",
          "text": [
            "WARNING:tensorflow:From c:\\Users\\harsh\\anaconda3\\Lib\\site-packages\\keras\\src\\losses.py:2976: The name tf.losses.sparse_softmax_cross_entropy is deprecated. Please use tf.compat.v1.losses.sparse_softmax_cross_entropy instead.\n",
            "\n"
          ]
        }
      ],
      "source": [
        "import os\n",
        "import glob\n",
        "import pandas as pd\n",
        "import numpy as np\n",
        "from sklearn.preprocessing import LabelEncoder, StandardScaler\n",
        "from sklearn.feature_selection import RFE, mutual_info_classif\n",
        "from sklearn.ensemble import IsolationForest\n",
        "from sklearn.linear_model import LogisticRegression\n",
        "from sklearn.model_selection import StratifiedKFold\n",
        "from keras.models import Sequential\n",
        "from keras.layers import LSTM, Dense, Dropout\n",
        "from keras.utils import to_categorical\n",
        "from keras.callbacks import EarlyStopping\n",
        "import matplotlib.pyplot as plt\n",
        "import seaborn as sns"
      ]
    },
    {
      "cell_type": "code",
      "execution_count": 5,
      "metadata": {
        "id": "8Qy2T9Hm_rB_"
      },
      "outputs": [
        {
          "name": "stdout",
          "output_type": "stream",
          "text": [
            "Files found: ['./content\\\\Benign-Monday-no-metadata.parquet', './content\\\\Botnet-Friday-no-metadata.parquet', './content\\\\Bruteforce-Tuesday-no-metadata.parquet', './content\\\\DDoS-Friday-no-metadata.parquet', './content\\\\DoS-Wednesday-no-metadata.parquet', './content\\\\Infiltration-Thursday-no-metadata.parquet', './content\\\\Portscan-Friday-no-metadata.parquet', './content\\\\WebAttacks-Thursday-no-metadata.parquet']\n"
          ]
        }
      ],
      "source": [
        "folder_path = './content/'\n",
        "all_files = glob.glob(os.path.join(folder_path, '*.parquet'))\n",
        "print(\"Files found:\", all_files)"
      ]
    },
    {
      "cell_type": "code",
      "execution_count": 6,
      "metadata": {
        "colab": {
          "base_uri": "https://localhost:8080/"
        },
        "id": "5ZMKYLdg_6dv",
        "outputId": "c68bc053-a7af-4ce4-b1e8-ecfc5d80c04b"
      },
      "outputs": [
        {
          "name": "stdout",
          "output_type": "stream",
          "text": [
            "Total samples: (2313810, 78)\n"
          ]
        }
      ],
      "source": [
        "df_list = [pd.read_parquet(file) for file in all_files]\n",
        "df = pd.concat(df_list, ignore_index=True)\n",
        "print(\"Total samples:\", df.shape)"
      ]
    },
    {
      "cell_type": "code",
      "execution_count": 7,
      "metadata": {
        "id": "_2C6oRaQACvB"
      },
      "outputs": [],
      "source": [
        "label_col = df['Label']  # save it first\n",
        "\n",
        "df = df.select_dtypes(include=[np.number])  # drop non-numerics\n",
        "df['Label'] = label_col  # add Label back\n"
      ]
    },
    {
      "cell_type": "code",
      "execution_count": 8,
      "metadata": {
        "colab": {
          "base_uri": "https://localhost:8080/"
        },
        "id": "cmUwsMP-fKh-",
        "outputId": "466a16de-e968-4b22-8547-80a12c568506"
      },
      "outputs": [
        {
          "name": "stdout",
          "output_type": "stream",
          "text": [
            "Unique attack labels in the 'Label' column:\n",
            "Label\n",
            "Benign                        1977318\n",
            "DoS Hulk                       172846\n",
            "DDoS                           128014\n",
            "DoS GoldenEye                   10286\n",
            "FTP-Patator                      5931\n",
            "DoS slowloris                    5385\n",
            "DoS Slowhttptest                 5228\n",
            "SSH-Patator                      3219\n",
            "PortScan                         1956\n",
            "Web Attack � Brute Force         1470\n",
            "Bot                              1437\n",
            "Web Attack � XSS                  652\n",
            "Infiltration                       36\n",
            "Web Attack � Sql Injection         21\n",
            "Heartbleed                         11\n",
            "Name: count, dtype: int64\n",
            "\n",
            "Unique attack types in the 'Label' column (text-based):\n",
            "['Benign' 'Bot' 'FTP-Patator' 'SSH-Patator' 'DDoS' 'DoS slowloris'\n",
            " 'DoS Slowhttptest' 'DoS Hulk' 'DoS GoldenEye' 'Heartbleed' 'Infiltration'\n",
            " 'PortScan' 'Web Attack � Brute Force' 'Web Attack � XSS'\n",
            " 'Web Attack � Sql Injection']\n"
          ]
        }
      ],
      "source": [
        "# Check the unique values in the 'Label' column\n",
        "print(\"Unique attack labels in the 'Label' column:\")\n",
        "print(df['Label'].value_counts())\n",
        "\n",
        "# Optionally, list all unique attack types (if 'Label' is text-based)\n",
        "print(\"\\nUnique attack types in the 'Label' column (text-based):\")\n",
        "print(df['Label'].unique())"
      ]
    },
    {
      "cell_type": "code",
      "execution_count": 9,
      "metadata": {
        "id": "KNJGNgHcAFIb"
      },
      "outputs": [],
      "source": [
        "# Assuming 'Label' column has different attack types and 'BENIGN' is normal traffic\n",
        "attack_types = ['Benign', 'DDoS', 'Infiltration', 'Web Attack � Brute Force',\n",
        " 'Web Attack � XSS', 'Web Attack � Sql Injection', 'FTP-Patator',\n",
        " 'SSH-Patator', 'DoS slowloris', 'DoS Slowhttptest', 'DoS Hulk',\n",
        " 'DoS GoldenEye', 'Heartbleed', 'PortScan','Bot']\n",
        "df['Label'] = df['Label'].apply(lambda x: attack_types.index(str(x)) if str(x) in attack_types else -1)\n"
      ]
    },
    {
      "cell_type": "code",
      "execution_count": 10,
      "metadata": {
        "id": "Zc7HEPNyAH5N"
      },
      "outputs": [],
      "source": [
        "X = df.drop('Label', axis=1)\n",
        "y = df['Label']"
      ]
    },
    {
      "cell_type": "code",
      "execution_count": 11,
      "metadata": {
        "id": "qmIuuc6rAKGM"
      },
      "outputs": [],
      "source": [
        "scaler = StandardScaler()\n",
        "X_scaled = scaler.fit_transform(X)"
      ]
    },
    {
      "cell_type": "code",
      "execution_count": 12,
      "metadata": {
        "id": "7CGeQo2EGWq6"
      },
      "outputs": [],
      "source": [
        "from sklearn.model_selection import train_test_split\n",
        "\n",
        "# Select 50,000 samples\n",
        "X_sample, _, y_sample, _ = train_test_split(\n",
        "    X_scaled, y, train_size=120000, stratify=y, random_state=42)\n"
      ]
    },
    {
      "cell_type": "code",
      "execution_count": 13,
      "metadata": {
        "colab": {
          "base_uri": "https://localhost:8080/"
        },
        "id": "OWh-Kz83G28P",
        "outputId": "c77151c3-5d84-4db6-a63d-785ede3aeb82"
      },
      "outputs": [],
      "source": [
        "from sklearn.linear_model import LogisticRegression\n",
        "from sklearn.feature_selection import RFE\n",
        "\n",
        "# Base estimator for RFE\n",
        "lr = LogisticRegression(max_iter=300, solver='liblinear')\n",
        "n_features_to_select = int(0.8 * X_sample.shape[1])\n",
        "\n",
        "# Select top 60 features (you can change this)\n",
        "rfe = RFE(estimator=lr, n_features_to_select=n_features_to_select,step=5)\n",
        "X_rfe = rfe.fit_transform(X_sample, y_sample)\n",
        "\n",
        "# Get the indices of the features selected by RFE\n",
        "rfe_indices = rfe.get_support(indices=True)\n"
      ]
    },
    {
      "cell_type": "code",
      "execution_count": 14,
      "metadata": {
        "colab": {
          "base_uri": "https://localhost:8080/"
        },
        "id": "Rdc7GgeWHnoI",
        "outputId": "9e8c2833-4a4e-4c02-a694-3af179f519b6"
      },
      "outputs": [
        {
          "name": "stdout",
          "output_type": "stream",
          "text": [
            "Number of features selected: 61\n",
            "Number of features selected: 45\n",
            "Names of the selected features: Index(['Bwd IAT Min', 'Total Fwd Packets', 'Subflow Fwd Packets', 'Active Min',\n",
            "       'Active Max', 'Active Mean', 'Bwd IAT Std', 'Total Backward Packets',\n",
            "       'Subflow Bwd Packets', 'Idle Min', 'Idle Mean', 'Idle Max',\n",
            "       'Bwd IAT Mean', 'Bwd IAT Total', 'Flow Bytes/s', 'Flow IAT Mean',\n",
            "       'Bwd IAT Max', 'Fwd Packets/s', 'Bwd Packets/s', 'Flow IAT Std',\n",
            "       'Avg Fwd Segment Size', 'Fwd Packet Length Mean',\n",
            "       'Fwd Packet Length Std', 'Flow Duration', 'Fwd IAT Std', 'Fwd IAT Mean',\n",
            "       'Flow IAT Max', 'Fwd IAT Total', 'Init Fwd Win Bytes',\n",
            "       'Init Bwd Win Bytes', 'Fwd Packet Length Max', 'Fwd IAT Max',\n",
            "       'Bwd Packet Length Std', 'Fwd Packets Length Total',\n",
            "       'Subflow Fwd Bytes', 'Bwd Packet Length Max', 'Packet Length Max',\n",
            "       'Packet Length Variance', 'Packet Length Std', 'Packet Length Mean',\n",
            "       'Bwd Packets Length Total', 'Subflow Bwd Bytes',\n",
            "       'Bwd Packet Length Mean', 'Avg Bwd Segment Size', 'Avg Packet Size'],\n",
            "      dtype='object')\n"
          ]
        }
      ],
      "source": [
        "from sklearn.feature_selection import mutual_info_classif\n",
        "import numpy as np\n",
        "\n",
        "# Apply MI on the RFE-reduced features\n",
        "mi_scores = mutual_info_classif(X_rfe, y_sample, random_state=42)\n",
        "\n",
        "# Select top 30% of the features based on MI scores\n",
        "top_mi_count = int(0.75 * len(mi_scores))  # Calculate the number of top 30% features\n",
        "top_mi_indices = np.argsort(mi_scores)[-top_mi_count:]  # Get indices of top 30% features based on MI scores\n",
        "\n",
        "# Get final feature indices relative to the original dataset (combine RFE and MI)\n",
        "final_indices = rfe_indices[top_mi_indices]\n",
        "\n",
        "# Apply these to the full dataset\n",
        "X_final = X_scaled[:, final_indices]\n",
        "print(f\"Number of features selected: {len(rfe_indices)}\")\n",
        "\n",
        "print(f\"Number of features selected: {len(final_indices)}\")\n",
        "\n",
        "\n",
        "# Get the feature names from the original dataset\n",
        "feature_names = X.columns\n",
        "\n",
        "# Get the names of the features selected by RFE and MI\n",
        "selected_feature_names = feature_names[final_indices]\n",
        "\n",
        "\n",
        "# Print the names of the selected features\n",
        "print(f\"Names of the selected features: {selected_feature_names}\")\n",
        "\n"
      ]
    },
    {
      "cell_type": "code",
      "execution_count": 15,
      "metadata": {
        "id": "plAXaNRwG1bD"
      },
      "outputs": [
        {
          "name": "stderr",
          "output_type": "stream",
          "text": [
            "c:\\Users\\harsh\\anaconda3\\Lib\\site-packages\\sklearn\\base.py:439: UserWarning: X does not have valid feature names, but IsolationForest was fitted with feature names\n",
            "  warnings.warn(\n"
          ]
        }
      ],
      "source": [
        "X_sample = X.sample(120000, random_state=42)\n",
        "y_sample = y.loc[X_sample.index]\n",
        "\n",
        "# 2. Run Isolation Forest\n",
        "iso_forest = IsolationForest(n_estimators=100, contamination=0.01, random_state=42)\n",
        "iso_labels = iso_forest.fit_predict(X_sample)\n",
        "iso_labels = np.where(iso_labels == -1, 1, 0)"
      ]
    },
    {
      "cell_type": "code",
      "execution_count": 16,
      "metadata": {
        "id": "wZHCsXb9eAlP"
      },
      "outputs": [],
      "source": [
        "X_filtered = X_sample[iso_labels == 0]\n",
        "y_filtered = y_sample[iso_labels == 0]"
      ]
    },
    {
      "cell_type": "code",
      "execution_count": 17,
      "metadata": {
        "id": "p1cUQHx2xNwd"
      },
      "outputs": [],
      "source": [
        "from sklearn.preprocessing import StandardScaler\n",
        "\n",
        "timesteps = 1\n",
        "features = X_sample.shape[1]\n",
        "\n",
        "# Step 1: Normalize using StandardScaler\n",
        "scaler = StandardScaler()\n",
        "X_scaled = scaler.fit_transform(X_sample)\n",
        "\n",
        "# Step 2: Reshape for LSTM\n",
        "X_sample_reshaped = X_scaled.reshape((X_scaled.shape[0], timesteps, features))\n"
      ]
    },
    {
      "cell_type": "code",
      "execution_count": 18,
      "metadata": {
        "id": "Y6U0mqmfAVUI"
      },
      "outputs": [],
      "source": [
        "from sklearn.metrics import accuracy_score, precision_score, recall_score, f1_score # Import necessary metrics\n",
        "from sklearn.model_selection import StratifiedKFold\n",
        "import numpy as np\n",
        "from keras.models import Sequential\n",
        "from keras.layers import LSTM, Dense, Dropout\n",
        "from keras.utils import to_categorical\n",
        "\n",
        "kf = StratifiedKFold(n_splits=10, shuffle=True, random_state=42)\n",
        "\n",
        "# Lists to store metrics\n",
        "fold_accuracies, fold_precisions, fold_recalls, fold_f1s = [], [], [], []"
      ]
    },
    {
      "cell_type": "code",
      "execution_count": 19,
      "metadata": {},
      "outputs": [
        {
          "name": "stdout",
          "output_type": "stream",
          "text": [
            "Requirement already satisfied: scikit-learn==1.2.2 in c:\\users\\harsh\\anaconda3\\lib\\site-packages (1.2.2)\n",
            "Requirement already satisfied: imbalanced-learn==0.10.1 in c:\\users\\harsh\\anaconda3\\lib\\site-packages (0.10.1)\n",
            "Requirement already satisfied: numpy>=1.17.3 in c:\\users\\harsh\\anaconda3\\lib\\site-packages (from scikit-learn==1.2.2) (1.24.3)\n",
            "Requirement already satisfied: scipy>=1.3.2 in c:\\users\\harsh\\anaconda3\\lib\\site-packages (from scikit-learn==1.2.2) (1.11.1)\n",
            "Requirement already satisfied: joblib>=1.1.1 in c:\\users\\harsh\\anaconda3\\lib\\site-packages (from scikit-learn==1.2.2) (1.2.0)\n",
            "Requirement already satisfied: threadpoolctl>=2.0.0 in c:\\users\\harsh\\anaconda3\\lib\\site-packages (from scikit-learn==1.2.2) (3.6.0)\n",
            "Note: you may need to restart the kernel to use updated packages.\n"
          ]
        }
      ],
      "source": [
        "pip install scikit-learn==1.2.2 imbalanced-learn==0.10.1\n"
      ]
    },
    {
      "cell_type": "code",
      "execution_count": 20,
      "metadata": {
        "id": "KKjcfACeLIPd"
      },
      "outputs": [
        {
          "name": "stdout",
          "output_type": "stream",
          "text": [
            "\n",
            "Fold 1 - Shapes: X_train: (96000, 1, 77), X_test: (24000, 1, 77)\n",
            "WARNING:tensorflow:From c:\\Users\\harsh\\anaconda3\\Lib\\site-packages\\keras\\src\\layers\\rnn\\gru.py:144: The name tf.executing_eagerly_outside_functions is deprecated. Please use tf.compat.v1.executing_eagerly_outside_functions instead.\n",
            "\n",
            "WARNING:tensorflow:From c:\\Users\\harsh\\anaconda3\\Lib\\site-packages\\keras\\src\\optimizers\\__init__.py:309: The name tf.train.Optimizer is deprecated. Please use tf.compat.v1.train.Optimizer instead.\n",
            "\n",
            "WARNING:tensorflow:From c:\\Users\\harsh\\anaconda3\\Lib\\site-packages\\keras\\src\\utils\\tf_utils.py:492: The name tf.ragged.RaggedTensorValue is deprecated. Please use tf.compat.v1.ragged.RaggedTensorValue instead.\n",
            "\n",
            "WARNING:tensorflow:From c:\\Users\\harsh\\anaconda3\\Lib\\site-packages\\keras\\src\\engine\\base_layer_utils.py:384: The name tf.executing_eagerly_outside_functions is deprecated. Please use tf.compat.v1.executing_eagerly_outside_functions instead.\n",
            "\n",
            "750/750 [==============================] - 3s 3ms/step\n",
            "Fold 1 Results:\n",
            "[[19978   535]\n",
            " [  114  3373]]\n",
            "              precision    recall  f1-score   support\n",
            "\n",
            "           0       0.99      0.97      0.98     20513\n",
            "           1       0.86      0.97      0.91      3487\n",
            "\n",
            "    accuracy                           0.97     24000\n",
            "   macro avg       0.93      0.97      0.95     24000\n",
            "weighted avg       0.98      0.97      0.97     24000\n",
            "\n",
            "--------------------------------------------------\n",
            "\n",
            "Fold 2 - Shapes: X_train: (96000, 1, 77), X_test: (24000, 1, 77)\n",
            "750/750 [==============================] - 5s 3ms/step\n",
            "Fold 2 Results:\n",
            "[[20137   376]\n",
            " [  112  3375]]\n",
            "              precision    recall  f1-score   support\n",
            "\n",
            "           0       0.99      0.98      0.99     20513\n",
            "           1       0.90      0.97      0.93      3487\n",
            "\n",
            "    accuracy                           0.98     24000\n",
            "   macro avg       0.95      0.97      0.96     24000\n",
            "weighted avg       0.98      0.98      0.98     24000\n",
            "\n",
            "--------------------------------------------------\n",
            "\n",
            "Fold 3 - Shapes: X_train: (96000, 1, 77), X_test: (24000, 1, 77)\n",
            "750/750 [==============================] - 2s 2ms/step\n",
            "Fold 3 Results:\n",
            "[[20117   395]\n",
            " [  146  3342]]\n",
            "              precision    recall  f1-score   support\n",
            "\n",
            "           0       0.99      0.98      0.99     20512\n",
            "           1       0.89      0.96      0.93      3488\n",
            "\n",
            "    accuracy                           0.98     24000\n",
            "   macro avg       0.94      0.97      0.96     24000\n",
            "weighted avg       0.98      0.98      0.98     24000\n",
            "\n",
            "--------------------------------------------------\n",
            "\n",
            "Fold 4 - Shapes: X_train: (96000, 1, 77), X_test: (24000, 1, 77)\n",
            "750/750 [==============================] - 2s 2ms/step\n",
            "Fold 4 Results:\n",
            "[[20213   299]\n",
            " [  135  3353]]\n",
            "              precision    recall  f1-score   support\n",
            "\n",
            "           0       0.99      0.99      0.99     20512\n",
            "           1       0.92      0.96      0.94      3488\n",
            "\n",
            "    accuracy                           0.98     24000\n",
            "   macro avg       0.96      0.97      0.96     24000\n",
            "weighted avg       0.98      0.98      0.98     24000\n",
            "\n",
            "--------------------------------------------------\n",
            "\n",
            "Fold 5 - Shapes: X_train: (96000, 1, 77), X_test: (24000, 1, 77)\n",
            "750/750 [==============================] - 6s 4ms/step\n",
            "Fold 5 Results:\n",
            "[[20358   154]\n",
            " [  270  3218]]\n",
            "              precision    recall  f1-score   support\n",
            "\n",
            "           0       0.99      0.99      0.99     20512\n",
            "           1       0.95      0.92      0.94      3488\n",
            "\n",
            "    accuracy                           0.98     24000\n",
            "   macro avg       0.97      0.96      0.96     24000\n",
            "weighted avg       0.98      0.98      0.98     24000\n",
            "\n",
            "--------------------------------------------------\n",
            "\n",
            "Average Metrics Over All Folds:\n",
            "Avg Accuracy : 0.9788666666666666\n",
            "Avg Precision: 0.9059236927410833\n",
            "Avg Recall   : 0.9554435314128756\n",
            "Avg F1 Score : 0.9294690544502778\n"
          ]
        }
      ],
      "source": [
        "from sklearn.metrics import accuracy_score, precision_score, recall_score, f1_score, confusion_matrix, classification_report\n",
        "from sklearn.model_selection import StratifiedKFold\n",
        "from sklearn.preprocessing import StandardScaler\n",
        "from sklearn.utils import class_weight\n",
        "from tensorflow.keras.models import Sequential\n",
        "from tensorflow.keras.layers import GRU, Dropout, Dense, Bidirectional\n",
        "from keras.callbacks import EarlyStopping\n",
        "import numpy as np\n",
        "\n",
        "# Ensure binary labels (0 and 1 only)\n",
        "y_sample = np.where(y_sample > 1, 1, y_sample)\n",
        "\n",
        "# Convert to numpy arrays\n",
        "X_sample = X_sample.values if hasattr(X_sample, 'values') else X_sample\n",
        "y_sample = y_sample if isinstance(y_sample, np.ndarray) else np.array(y_sample)\n",
        "\n",
        "# Feature scaling\n",
        "scaler = StandardScaler()\n",
        "X_flat = X_sample.reshape(X_sample.shape[0], -1)\n",
        "X_scaled = scaler.fit_transform(X_flat)\n",
        "\n",
        "# Reshape for GRU input (samples, timesteps, features)\n",
        "timesteps = 1\n",
        "features = X_scaled.shape[1]\n",
        "X_sample = X_scaled.reshape(X_scaled.shape[0], timesteps, features)\n",
        "\n",
        "# K-Fold setup\n",
        "kf = StratifiedKFold(n_splits=5, shuffle=True, random_state=42)\n",
        "\n",
        "# Metric storage\n",
        "fold_accuracies, fold_precisions, fold_recalls, fold_f1s = [], [], [], []\n",
        "\n",
        "# Cross-validation loop\n",
        "for fold, (train_index, test_index) in enumerate(kf.split(X_sample, y_sample), 1):\n",
        "    X_train, X_test = X_sample[train_index], X_sample[test_index]\n",
        "    y_train, y_test = y_sample[train_index], y_sample[test_index]\n",
        "\n",
        "    print(f\"\\nFold {fold} - Shapes: X_train: {X_train.shape}, X_test: {X_test.shape}\")\n",
        "\n",
        "    if len(np.unique(y_train)) < 2:\n",
        "        print(f\"Skipping Fold {fold} (Only one class in training data)\")\n",
        "        continue\n",
        "\n",
        "    # Compute class weights for binary classification\n",
        "    cw = class_weight.compute_class_weight(class_weight='balanced', classes=np.unique(y_train), y=y_train)\n",
        "    class_weights = dict(zip(np.unique(y_train), cw))\n",
        "\n",
        "    # Model definition\n",
        "    model = Sequential([\n",
        "        Bidirectional(GRU(128, return_sequences=True), input_shape=(timesteps, features)),\n",
        "        Dropout(0.3),\n",
        "        GRU(64, return_sequences=False),\n",
        "        Dropout(0.3),\n",
        "        Dense(32, activation='relu'),\n",
        "        Dropout(0.2),\n",
        "        Dense(1, activation='sigmoid')\n",
        "    ])\n",
        "\n",
        "    model.compile(optimizer='adam', loss='binary_crossentropy', metrics=['accuracy'])\n",
        "\n",
        "    early_stop = EarlyStopping(monitor='val_loss', patience=5, restore_best_weights=True)\n",
        "\n",
        "    # Training\n",
        "    model.fit(X_train, y_train,\n",
        "              epochs=30,\n",
        "              batch_size=64,\n",
        "              validation_data=(X_test, y_test),\n",
        "              callbacks=[early_stop],\n",
        "              class_weight=class_weights,\n",
        "              verbose=0)\n",
        "\n",
        "    # Predictions\n",
        "    y_pred = (model.predict(X_test) > 0.5).astype(int).ravel()\n",
        "\n",
        "    # Metric evaluation\n",
        "    acc = accuracy_score(y_test, y_pred)\n",
        "    prec = precision_score(y_test, y_pred, zero_division=0)\n",
        "    rec = recall_score(y_test, y_pred, zero_division=0)\n",
        "    f1 = f1_score(y_test, y_pred, zero_division=0)\n",
        "\n",
        "    # Store results\n",
        "    fold_accuracies.append(acc)\n",
        "    fold_precisions.append(prec)\n",
        "    fold_recalls.append(rec)\n",
        "    fold_f1s.append(f1)\n",
        "\n",
        "    # Print fold report\n",
        "    print(f\"Fold {fold} Results:\")\n",
        "    print(confusion_matrix(y_test, y_pred))\n",
        "    print(classification_report(y_test, y_pred, zero_division=0))\n",
        "    print(\"-\" * 50)\n",
        "\n",
        "# Final average metrics\n",
        "print(\"\\nAverage Metrics Over All Folds:\")\n",
        "print(\"Avg Accuracy :\", np.mean(fold_accuracies))\n",
        "print(\"Avg Precision:\", np.mean(fold_precisions))\n",
        "print(\"Avg Recall   :\", np.mean(fold_recalls))\n",
        "print(\"Avg F1 Score :\", np.mean(fold_f1s))\n"
      ]
    },
    {
      "cell_type": "code",
      "execution_count": 21,
      "metadata": {
        "id": "fEFNGJJnxTeK"
      },
      "outputs": [
        {
          "name": "stdout",
          "output_type": "stream",
          "text": [
            "Average Accuracay: 0.9789\n",
            "Average Precision: 0.9059\n",
            "Average Recall: 0.9554\n",
            "Average F1-score: 0.9295\n"
          ]
        },
        {
          "data": {
            "image/png": "[encoded data removed]",
            "text/plain": [
              "<Figure size 800x500 with 1 Axes>"
            ]
          },
          "metadata": {},
          "output_type": "display_data"
        }
      ],
      "source": [
        "if fold_accuracies:\n",
        "    avg_acc = np.mean(fold_accuracies)\n",
        "    avg_prec = np.mean(fold_precisions)\n",
        "    avg_rec = np.mean(fold_recalls)\n",
        "    avg_f1 = np.mean(fold_f1s)\n",
        "\n",
        "    print(f\"Average Accuracay: {avg_acc:.4f}\")\n",
        "    print(f\"Average Precision: {avg_prec:.4f}\")\n",
        "    print(f\"Average Recall: {avg_rec:.4f}\")\n",
        "    print(f\"Average F1-score: {avg_f1:.4f}\")\n",
        "\n",
        "    #Plot performance across folds\n",
        "    plt.figure(figsize=(8,5))\n",
        "    plt.plot(range(1, len(fold_accuracies) + 1), fold_accuracies, marker='o', label='Accuracy')\n",
        "    plt.plot(range(1, len(fold_precisions) + 1), fold_precisions, marker='s', label='Precision')\n",
        "    plt.plot(range(1, len(fold_recalls) + 1), fold_recalls, marker='^', label='Recall')\n",
        "    plt.plot(range(1, len(fold_f1s) + 1), fold_f1s, marker='d', label='F1-score')\n",
        "\n",
        "    plt.xticks(range(1, len(fold_accuracies) + 1))\n",
        "    plt.xlabel('Fold Number')\n",
        "    plt.ylabel('Metric Score')\n",
        "    plt.title('Cross-Validation Performance')\n",
        "    plt.legend()\n",
        "    plt.grid()\n",
        "    plt.show()\n",
        "else:\n",
        "    print(\"No valid folds with both classes. Check dataset balance.\")\n"
      ]
    }
  ],
  "metadata": {
    "colab": {
      "provenance": []
    },
    "kernelspec": {
      "display_name": "base",
      "language": "python",
      "name": "python3"
    },
    "language_info": {
      "codemirror_mode": {
        "name": "ipython",
        "version": 3
      },
      "file_extension": ".py",
      "mimetype": "text/x-python",
      "name": "python",
      "nbconvert_exporter": "python",
      "pygments_lexer": "ipython3",
      "version": "3.11.5"
    }
  },
  "nbformat": 4,
  "nbformat_minor": 0
}
