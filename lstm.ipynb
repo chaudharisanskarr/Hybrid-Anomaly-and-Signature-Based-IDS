{
 "cells": [
  {
   "cell_type": "code",
   "execution_count": 3,
   "metadata": {},
   "outputs": [
    {
     "name": "stdout",
     "output_type": "stream",
     "text": [
      "WARNING:tensorflow:From c:\\Users\\harsh\\anaconda3\\Lib\\site-packages\\keras\\src\\losses.py:2976: The name tf.losses.sparse_softmax_cross_entropy is deprecated. Please use tf.compat.v1.losses.sparse_softmax_cross_entropy instead.\n",
      "\n"
     ]
    }
   ],
   "source": [
    "import numpy as np\n",
    "import pandas as pd\n",
    "import matplotlib.pyplot as plt\n",
    "import seaborn as sns\n",
    "from sklearn.preprocessing import LabelEncoder, StandardScaler\n",
    "from sklearn.feature_selection import RFE\n",
    "from sklearn.ensemble import RandomForestClassifier\n",
    "from tensorflow.keras.models import Sequential\n",
    "from tensorflow.keras.layers import LSTM, Dense, Dropout\n",
    "from tensorflow.keras.utils import to_categorical\n",
    "from sklearn.model_selection import train_test_split\n",
    "from sklearn.metrics import classification_report, confusion_matrix"
   ]
  },
  {
   "cell_type": "code",
   "execution_count": 4,
   "metadata": {},
   "outputs": [],
   "source": [
    "train_data = pd.read_csv(\"./KDDTrain+.txt\")\n",
    "test_data = pd.read_csv(\"./KDDTest+.txt\")\n"
   ]
  },
  {
   "cell_type": "code",
   "execution_count": 5,
   "metadata": {},
   "outputs": [],
   "source": [
    "columns = ['duration', 'protocol_type', 'service', 'flag', 'src_bytes', 'dst_bytes', 'land', 'wrong_fragment',\n",
    "           'urgent', 'hot', 'num_failed_logins', 'logged_in', 'num_compromised', 'root_shell', 'su_attempted',\n",
    "           'num_root', 'num_file_creations', 'num_shells', 'num_access_files', 'num_outbound_cmds', 'is_host_login',\n",
    "           'is_guest_login', 'count', 'srv_count', 'serror_rate', 'srv_serror_rate', 'rerror_rate', 'srv_rerror_rate',\n",
    "           'same_srv_rate', 'diff_srv_rate', 'srv_diff_host_rate', 'dst_host_count', 'dst_host_srv_count',\n",
    "           'dst_host_same_srv_rate', 'dst_host_diff_srv_rate', 'dst_host_same_src_port_rate',\n",
    "           'dst_host_srv_diff_host_rate', 'dst_host_serror_rate', 'dst_host_srv_serror_rate', 'dst_host_rerror_rate',\n",
    "           'dst_host_srv_rerror_rate', 'attack', 'level']\n",
    "\n",
    "train_data.columns = columns\n",
    "test_data.columns = columns\n"
   ]
  },
  {
   "cell_type": "code",
   "execution_count": 6,
   "metadata": {},
   "outputs": [],
   "source": [
    "full_data = pd.concat([train_data, test_data], ignore_index=True)"
   ]
  },
  {
   "cell_type": "code",
   "execution_count": 7,
   "metadata": {},
   "outputs": [],
   "source": [
    "label_encoders = {}\n",
    "for column in ['protocol_type', 'service', 'flag']:\n",
    "    le = LabelEncoder()\n",
    "    full_data[column] = le.fit_transform(full_data[column])\n",
    "    label_encoders[column] = le"
   ]
  },
  {
   "cell_type": "code",
   "execution_count": 8,
   "metadata": {},
   "outputs": [],
   "source": [
    "full_data['attack'] = full_data['attack'].apply(lambda x: 1 if x != 'normal' else 0)"
   ]
  },
  {
   "cell_type": "code",
   "execution_count": 9,
   "metadata": {},
   "outputs": [],
   "source": [
    "X = full_data.drop(['attack', 'level'], axis=1)\n",
    "y = full_data['attack']"
   ]
  },
  {
   "cell_type": "code",
   "execution_count": 10,
   "metadata": {},
   "outputs": [],
   "source": [
    "rf = RandomForestClassifier(n_estimators=100, random_state=42)\n",
    "rfe = RFE(rf, n_features_to_select=30)\n",
    "rfe.fit(X, y)\n",
    "X_selected = X[X.columns[rfe.support_]]"
   ]
  },
  {
   "cell_type": "code",
   "execution_count": 11,
   "metadata": {},
   "outputs": [],
   "source": [
    "scaler = StandardScaler()\n",
    "X_scaled = scaler.fit_transform(X_selected)"
   ]
  },
  {
   "cell_type": "code",
   "execution_count": 12,
   "metadata": {},
   "outputs": [],
   "source": [
    "X_reshaped = X_scaled.reshape((X_scaled.shape[0], 1, X_scaled.shape[1]))"
   ]
  },
  {
   "cell_type": "code",
   "execution_count": 15,
   "metadata": {},
   "outputs": [],
   "source": [
    "X_train, X_test, y_train, y_test = train_test_split(X_reshaped, y, test_size=0.2, random_state=42, stratify=y)\n",
    "\n",
    "# Convert labels to categorical (optional for multi-class, keep as is for binary classification)\n",
    "y_train = to_categorical(y_train)\n",
    "y_test = to_categorical(y_test)\n"
   ]
  },
  {
   "cell_type": "code",
   "execution_count": 16,
   "metadata": {},
   "outputs": [],
   "source": [
    "model = Sequential([\n",
    "    LSTM(50, return_sequences=True, input_shape=(X_train.shape[1], X_train.shape[2])),\n",
    "    Dropout(0.3),\n",
    "    LSTM(50),\n",
    "    Dropout(0.3),\n",
    "    Dense(2, activation='softmax')  # Change from 1 neuron (sigmoid) to 2 neurons (softmax)\n",
    "])\n",
    "\n",
    "# Compile the model with categorical loss\n",
    "model.compile(optimizer='adam', loss='categorical_crossentropy', metrics=['accuracy'])\n"
   ]
  },
  {
   "cell_type": "code",
   "execution_count": 17,
   "metadata": {},
   "outputs": [
    {
     "name": "stdout",
     "output_type": "stream",
     "text": [
      "Epoch 1/20\n",
      "WARNING:tensorflow:From c:\\Users\\harsh\\anaconda3\\Lib\\site-packages\\keras\\src\\utils\\tf_utils.py:492: The name tf.ragged.RaggedTensorValue is deprecated. Please use tf.compat.v1.ragged.RaggedTensorValue instead.\n",
      "\n",
      "WARNING:tensorflow:From c:\\Users\\harsh\\anaconda3\\Lib\\site-packages\\keras\\src\\engine\\base_layer_utils.py:384: The name tf.executing_eagerly_outside_functions is deprecated. Please use tf.compat.v1.executing_eagerly_outside_functions instead.\n",
      "\n",
      "1857/1857 [==============================] - 11s 4ms/step - loss: 0.1066 - accuracy: 0.9593 - val_loss: 0.0628 - val_accuracy: 0.9764\n",
      "Epoch 2/20\n",
      "1857/1857 [==============================] - 6s 3ms/step - loss: 0.0639 - accuracy: 0.9752 - val_loss: 0.0541 - val_accuracy: 0.9797\n",
      "Epoch 3/20\n",
      "1857/1857 [==============================] - 7s 4ms/step - loss: 0.0561 - accuracy: 0.9786 - val_loss: 0.0479 - val_accuracy: 0.9821\n",
      "Epoch 4/20\n",
      "1857/1857 [==============================] - 6s 3ms/step - loss: 0.0511 - accuracy: 0.9807 - val_loss: 0.0437 - val_accuracy: 0.9843\n",
      "Epoch 5/20\n",
      "1857/1857 [==============================] - 6s 3ms/step - loss: 0.0477 - accuracy: 0.9821 - val_loss: 0.0420 - val_accuracy: 0.9844\n",
      "Epoch 6/20\n",
      "1857/1857 [==============================] - 7s 4ms/step - loss: 0.0455 - accuracy: 0.9830 - val_loss: 0.0404 - val_accuracy: 0.9850\n",
      "Epoch 7/20\n",
      "1857/1857 [==============================] - 6s 3ms/step - loss: 0.0433 - accuracy: 0.9837 - val_loss: 0.0382 - val_accuracy: 0.9862\n",
      "Epoch 8/20\n",
      "1857/1857 [==============================] - 6s 3ms/step - loss: 0.0410 - accuracy: 0.9845 - val_loss: 0.0377 - val_accuracy: 0.9856\n",
      "Epoch 9/20\n",
      "1857/1857 [==============================] - 7s 4ms/step - loss: 0.0396 - accuracy: 0.9853 - val_loss: 0.0387 - val_accuracy: 0.9850\n",
      "Epoch 10/20\n",
      "1857/1857 [==============================] - 6s 3ms/step - loss: 0.0386 - accuracy: 0.9855 - val_loss: 0.0375 - val_accuracy: 0.9859\n",
      "Epoch 11/20\n",
      "1857/1857 [==============================] - 6s 3ms/step - loss: 0.0380 - accuracy: 0.9859 - val_loss: 0.0347 - val_accuracy: 0.9885\n",
      "Epoch 12/20\n",
      "1857/1857 [==============================] - 7s 4ms/step - loss: 0.0370 - accuracy: 0.9858 - val_loss: 0.0350 - val_accuracy: 0.9870\n",
      "Epoch 13/20\n",
      "1857/1857 [==============================] - 7s 4ms/step - loss: 0.0359 - accuracy: 0.9863 - val_loss: 0.0347 - val_accuracy: 0.9881\n",
      "Epoch 14/20\n",
      "1857/1857 [==============================] - 7s 4ms/step - loss: 0.0355 - accuracy: 0.9865 - val_loss: 0.0340 - val_accuracy: 0.9880\n",
      "Epoch 15/20\n",
      "1857/1857 [==============================] - 7s 4ms/step - loss: 0.0349 - accuracy: 0.9871 - val_loss: 0.0333 - val_accuracy: 0.9873\n",
      "Epoch 16/20\n",
      "1857/1857 [==============================] - 7s 4ms/step - loss: 0.0339 - accuracy: 0.9876 - val_loss: 0.0328 - val_accuracy: 0.9880\n",
      "Epoch 17/20\n",
      "1857/1857 [==============================] - 7s 4ms/step - loss: 0.0334 - accuracy: 0.9873 - val_loss: 0.0338 - val_accuracy: 0.9871\n",
      "Epoch 18/20\n",
      "1857/1857 [==============================] - 6s 3ms/step - loss: 0.0333 - accuracy: 0.9876 - val_loss: 0.0334 - val_accuracy: 0.9879\n",
      "Epoch 19/20\n",
      "1857/1857 [==============================] - 7s 4ms/step - loss: 0.0326 - accuracy: 0.9880 - val_loss: 0.0322 - val_accuracy: 0.9888\n",
      "Epoch 20/20\n",
      "1857/1857 [==============================] - 7s 4ms/step - loss: 0.0325 - accuracy: 0.9879 - val_loss: 0.0321 - val_accuracy: 0.9885\n",
      "929/929 [==============================] - 2s 2ms/step - loss: 0.0321 - accuracy: 0.9885\n",
      "\n",
      "Test Accuracy: 0.9885\n"
     ]
    }
   ],
   "source": [
    "\n",
    "\n",
    "# Train Model\n",
    "history = model.fit(X_train, y_train, epochs=20, batch_size=64, validation_data=(X_test, y_test))\n",
    "\n",
    "# Evaluate Model\n",
    "loss, accuracy = model.evaluate(X_test, y_test)\n",
    "print(f\"\\nTest Accuracy: {accuracy:.4f}\")"
   ]
  },
  {
   "cell_type": "code",
   "execution_count": 18,
   "metadata": {},
   "outputs": [
    {
     "data": {
      "image/png": "[encoded data removed]",
      "text/plain": [
       "<Figure size 800x500 with 1 Axes>"
      ]
     },
     "metadata": {},
     "output_type": "display_data"
    }
   ],
   "source": [
    "# Plot Training Loss & Accuracy\n",
    "plt.figure(figsize=(8,5))\n",
    "plt.plot(history.history['accuracy'], label='Train Accuracy')\n",
    "plt.plot(history.history['val_accuracy'], label='Validation Accuracy')\n",
    "plt.xlabel('Epochs')\n",
    "plt.ylabel('Accuracy')\n",
    "plt.legend()\n",
    "plt.grid()\n",
    "plt.title(\"LSTM Model Training Performance\")\n",
    "plt.show()"
   ]
  },
  {
   "cell_type": "code",
   "execution_count": null,
   "metadata": {},
   "outputs": [
    {
     "name": "stdout",
     "output_type": "stream",
     "text": [
      "929/929 [==============================] - 2s 1ms/step\n"
     ]
    }
   ],
   "source": [
    "# Predict on Test Data\n",
    "y_pred = (model.predict(X_test) > 0.5).astype(\"int32\")\n",
    "\n",
    "# Convert y_test back to labels\n",
    "y_test_labels = np.argmax(y_test, axis=1)"
   ]
  },
  {
   "cell_type": "code",
   "execution_count": 26,
   "metadata": {},
   "outputs": [
    {
     "name": "stdout",
     "output_type": "stream",
     "text": [
      "Confusion Matrix:\n",
      " [[15225   186]\n",
      " [  157 14135]]\n",
      "Classification Report:\n",
      "               precision    recall  f1-score   support\n",
      "\n",
      "           0       0.99      0.99      0.99     15411\n",
      "           1       0.99      0.99      0.99     14292\n",
      "\n",
      "    accuracy                           0.99     29703\n",
      "   macro avg       0.99      0.99      0.99     29703\n",
      "weighted avg       0.99      0.99      0.99     29703\n",
      "\n"
     ]
    }
   ],
   "source": [
    "# Convert one-hot encoded labels to single-class labels\n",
    "y_test_labels = np.argmax(y_test, axis=1)  # Convert test labels to class index\n",
    "y_pred_labels = np.argmax(y_pred, axis=1)  # Convert predictions to class index\n",
    "\n",
    "# Now use classification metrics\n",
    "print(\"Confusion Matrix:\\n\", confusion_matrix(y_test_labels, y_pred_labels))\n",
    "print(\"Classification Report:\\n\", classification_report(y_test_labels, y_pred_labels))\n"
   ]
  }
 ],
 "metadata": {
  "kernelspec": {
   "display_name": "base",
   "language": "python",
   "name": "python3"
  },
  "language_info": {
   "codemirror_mode": {
    "name": "ipython",
    "version": 3
   },
   "file_extension": ".py",
   "mimetype": "text/x-python",
   "name": "python",
   "nbconvert_exporter": "python",
   "pygments_lexer": "ipython3",
   "version": "3.11.5"
  }
 },
 "nbformat": 4,
 "nbformat_minor": 2
}
